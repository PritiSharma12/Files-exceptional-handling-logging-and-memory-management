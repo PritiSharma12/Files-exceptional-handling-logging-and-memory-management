{
  "nbformat": 4,
  "nbformat_minor": 0,
  "metadata": {
    "colab": {
      "provenance": []
    },
    "kernelspec": {
      "name": "python3",
      "display_name": "Python 3"
    },
    "language_info": {
      "name": "python"
    }
  },
  "cells": [
    {
      "cell_type": "markdown",
      "source": [
        "# Files, exceptional handling, logging and memory management\n",
        "  "
      ],
      "metadata": {
        "id": "Tl5ksK6rzJFh"
      }
    },
    {
      "cell_type": "markdown",
      "source": [
        "1. What is the difference between interpreted and compiled languages?\n",
        "\n",
        "  - 1. Compiled Languages\n",
        "\n",
        "     * A compiler translates the entire source code into machine code before\n",
        "      execution..\n",
        "\n",
        "    *  The resulting executable file can be run independently without requiring\n",
        "       the original source code.\n",
        "\n",
        "    *  Typically faster since the code is already compiled before execution.\n",
        "\n",
        "      Examples:\n",
        "\n",
        "      C, C++, Rust, Go, Swift, Java (compiled to bytecode)\n",
        "\n",
        "  2. Interpreted Languages\n",
        "  \n",
        "     * An interpreter translates and executes the source code line by line at\n",
        "       runtime.\n",
        "\n",
        "     * No separate compilation step—code runs immediately.\n",
        "\n",
        "     * Usually slower since translation happens during execution.\n",
        "\n",
        "      Examples:\n",
        "\n",
        "      Python, JavaScript, PHP, Ruby, Bash\n",
        "\n",
        " Feature\t        Compiled Languages\t               Interpreted Languages\n",
        "\n",
        "Execution \t   Faster (precompiled)\t           Slower (line-by-line execution)\n",
        "Speed\n",
        "\n",
        "Compilation   \tRequired before execution\t      Not required (executed directly)\n",
        "Step\n",
        "\n",
        "Error       \t   At compile time\t               At runtime\n",
        "Detection\n",
        "\n",
        "Flexibility\t    Less flexible\t                  More flexible\n",
        "\n",
        "Examples\t     C, C++, Rust, Swift                \tPython, JavaScript, Ruby\n",
        "\n",
        "\n",
        "2. What is exception handling in Python?\n",
        "\n",
        "   - Exception Handling in Python\n",
        "\n",
        "   Exception handling in Python is a mechanism that allows a program to handle runtime errors (exceptions) gracefully, preventing crashes and ensuring smooth execution. It uses the try, except, else, and finally blocks to manage errors.\n",
        "\n",
        "3. What is the purpose of the finally block in exception handling?\n",
        "\n",
        "  - The finally block in exception handling is used to ensure that a specific block of code executes regardless of whether an exception occurs or not. It is typically used for cleanup operations, such as closing files, releasing resources, or terminating connections.\n",
        "\n",
        "Key Purposes of the finally Block:\n",
        "\n",
        "* Ensures Execution: The code inside finally runs no matter what—whether an exception occurs, is caught, or even if there’s a return statement inside the try or except blocks.\n",
        "\n",
        "* Resource Management: Useful for closing files, releasing locks, disconnecting from databases, or other cleanup tasks.\n",
        "\n",
        "* Prevents Resource Leaks: Helps prevent resource leaks by ensuring proper cleanup, even if an error occurs.\n",
        "\n",
        "4.  What is logging in Python?\n",
        "\n",
        "    - Logging in Python is a way to track events that happen while a program runs. The logging module provides a flexible framework for recording and storing log messages, which can help with debugging, monitoring, and maintaining software.\n",
        "\n",
        "5. What is the significance of the __del__ method in Python?\n",
        "\n",
        "  - The __del__ method in Python is a destructor that is called when an object is about to be destroyed (garbage collected). It allows you to define custom cleanup behavior, such as closing files, releasing resources, or disconnecting from a database.\n",
        "\n",
        "Significance of __del__\n",
        "\n",
        "* Automatic Cleanup – Ensures that resources (like files or network connections) are properly released when an object is no longer needed.\n",
        "\n",
        "* Garbage Collection – Called when an object is about to be removed from memory, helping manage memory efficiently.\n",
        "\n",
        "* Resource Management – Useful for cleaning up non-memory resources, such as database connections, file handles, or sockets.\n",
        "\n",
        "6. What is the difference between import and from ... import in Python?\n",
        "\n",
        "   - 1. Using import\n",
        "This imports the entire module, and you must use the module name to access its functions or variables.\n",
        "\n",
        "2. Using from ... import\n",
        "This imports specific functions or variables from a module, allowing you to use them without the module prefix.\n",
        "\n",
        "7. How can you handle multiple exceptions in Python?\n",
        "\n",
        "   - Handling Multiple Exceptions in Python\n",
        "In Python, you can handle multiple exceptions using multiple except blocks or a single except block with a tuple.\n",
        "\n",
        "1. Using Multiple except Blocks\n",
        "\n",
        "This allows handling different exceptions separately.\n",
        "\n",
        "\n",
        "\n",
        "   "
      ],
      "metadata": {
        "id": "YRJXsIFYzTTv"
      }
    },
    {
      "cell_type": "code",
      "source": [
        "\n",
        "try:\n",
        "    num = int(input(\"Enter a number: \"))\n",
        "    result = 10 / num\n",
        "except ValueError:\n",
        "    print(\"Error: Invalid input! Please enter a valid number.\")\n",
        "except ZeroDivisionError:\n",
        "    print(\"Error: Division by zero is not allowed.\")\n",
        "except Exception as e:  # Catches any other unexpected errors\n",
        "    print(f\"Unexpected error: {e}\")\n"
      ],
      "metadata": {
        "id": "7sMlH8cFqKBW"
      },
      "execution_count": null,
      "outputs": []
    },
    {
      "cell_type": "markdown",
      "source": [
        "2. Using a Single except Block with a Tuple\n",
        "\n",
        "This is useful when multiple exceptions should be handled the same way.\n",
        "\n",
        "\n"
      ],
      "metadata": {
        "id": "iIy9pZ4-qTl7"
      }
    },
    {
      "cell_type": "code",
      "source": [
        "try:\n",
        "    num = int(input(\"Enter a number: \"))\n",
        "    result = 10 / num\n",
        "except (ValueError, ZeroDivisionError) as e:\n",
        "    print(f\"Error occurred: {e}\")\n"
      ],
      "metadata": {
        "id": "wTtg5MJmqXtz"
      },
      "execution_count": null,
      "outputs": []
    },
    {
      "cell_type": "markdown",
      "source": [
        "8. What is the purpose of the with statement when handling files in Python?\n",
        "\n",
        "   - Purpose of the with Statement in Python (When Handling Files)\n",
        "The with statement in Python is used for handling files safely and efficiently. It ensures that resources like files are properly opened and closed automatically, reducing the risk of resource leaks.\n",
        "\n",
        "9. What is the difference between multithreading and multiprocessing?\n",
        "\n",
        "  - Multithreading vs. multiprocessing\n",
        "\n",
        "While multithreading and multiprocessing can both be used to increase the computing power of a system, there are some key differences between these approaches. Here are some of the primary ways these methods differ from one another:\n",
        "\n",
        "* Multiprocessing uses two or more CPUs to increase computing power, whereas multithreading uses a single process with multiple code segments to increase computing power.\n",
        "\n",
        "* Multithreading focuses on generating computing threads from a single process, whereas multiprocessing increases computing power by adding CPUs.\n",
        "\n",
        "* Multiprocessing is used to create a more reliable system, whereas multithreading is used to create threads that run parallel to each other.\n",
        "\n",
        "* Multithreading is quick to create and requires few resources, whereas multiprocessing requires a significant amount of time and specific resources to create.\n",
        "\n",
        "* Multiprocessing executes many processes simultaneously, whereas multithreading executes many threads simultaneously.\n",
        "\n",
        "* Multithreading uses a common address space for all the threads, whereas multiprocessing creates a separate address space for each process.\n",
        "\n",
        "10.  What are the advantages of using logging in a program?\n",
        "\n",
        "    - 1. Better Debugging & Issue Tracking\n",
        "\n",
        "✅ Logs help identify where and why an error occurred.\n",
        "\n",
        "✅ Unlike print(), logs can be stored persistently for later analysis.\n",
        "\n",
        "2. Persistent Record Keeping\n",
        "\n",
        "✅ Logs store information in files, databases, or external systems, allowing for post-mortem analysis.\n",
        "\n",
        "✅ Useful for debugging after a system failure.\n",
        "\n",
        "3. Control Over Log Levels\n",
        "\n",
        "✅ You can log messages at different severity levels:\n",
        "\n",
        "DEBUG – Detailed diagnostic info.\n",
        "\n",
        "INFO – General events (e.g., app started).\n",
        "\n",
        "WARNING – Something unexpected but not critical.\n",
        "\n",
        "ERROR – A major problem.\n",
        "\n",
        "CRITICAL – A serious failure.\n",
        "\n",
        "4. Avoids Cluttering Output with print()\n",
        "\n",
        "✅ Unlike print(), logs can be easily turned off, filtered, or redirected.\n",
        "\n",
        "✅ No need to manually remove debugging statements in production.\n",
        "\n",
        "5. Supports Multi-Threading & Multiprocessing\n",
        "\n",
        "✅ Logs are thread-safe, making them ideal for concurrent programs.\n",
        "\n",
        "✅ Helps debug issues in multi-threaded applications.\n",
        "\n",
        "6. Remote Monitoring & Alerts\n",
        "\n",
        "✅ Logs can be sent to monitoring tools for real-time alerts.\n",
        "\n",
        "✅ Useful for detecting failures in distributed systems.\n",
        "\n",
        "11. What is memory management in Python?\n",
        "\n",
        "    - Memory management in Python is the process of allocating, tracking, and releasing memory for objects and variables during program execution. Python handles memory automatically using Garbage Collection (GC) and Reference Counting.\n",
        "\n",
        "12. What are the basic steps involved in exception handling in Python?\n",
        "\n",
        "    - Basic Steps in Exception Handling in Python\n",
        "\n",
        "Exception handling in Python ensures that a program runs smoothly by catching and managing runtime errors. It follows a structured approach using try, except, else, and finally blocks.\n",
        "\n",
        " Summary of Steps:\n",
        "\n",
        "Use try – Write code that may raise an exception.\n",
        "\n",
        "Use except – Catch and handle specific exceptions.\n",
        "\n",
        "Use else – Execute code if no exceptions occur.\n",
        "\n",
        "Use finally – Ensure cleanup actions (e.g., closing files).\n",
        "\n",
        "Use raise – Create custom exceptions when needed.\n",
        "\n",
        "13. Why is memory management important in Python?\n",
        "\n",
        "   - Memory management in Python is crucial for optimizing performance, preventing memory leaks, and ensuring efficient use of system resources. Since Python uses automatic memory management, understanding how it works helps developers write better, more efficient code.\n",
        "\n",
        "   Summary: Why Memory Management is Important\n",
        "\n",
        "✅ Prevents memory leaks – Unused objects are removed efficiently.\n",
        "\n",
        "✅ Optimizes performance – Reduces memory footprint and improves execution speed.\n",
        "\n",
        "✅ Handles large datasets – Ensures smooth operation without excessive memory consumption.\n",
        "\n",
        "✅ Avoids program crashes – Keeps applications stable over time.\n",
        "\n",
        "✅ Prevents circular references – Ensures objects are properly deallocated.\n",
        "\n",
        "14. What is the role of try and except in exception handling?\n",
        "\n",
        "   - Role of try and except in Exception Handling in Python\n",
        "\n",
        "Exception handling in Python helps prevent program crashes by catching and managing errors. The try and except blocks play a crucial role in this process.\n",
        "\n",
        "Summary: Role of try and except\n",
        "\n",
        "✔ try – Identifies risky code and detects exceptions.\n",
        "\n",
        "✔ except – Handles specific exceptions to prevent crashes.\n",
        "\n",
        "15.  How does Python's garbage collection system work?\n",
        "\n",
        "    - Reference Counting – Deletes objects when reference count reaches zero.\n",
        "    \n",
        "      Cyclic Garbage Collection – Handles circular references using the gc module.\n",
        "\n",
        "     Generational GC – Groups objects into three generations to optimize performance.\n",
        "\n",
        "     Manual GC Control – Developers can fine-tune memory management using the gc module.\n",
        "\n",
        "16. What is the purpose of the else block in exception handling?\n",
        "\n",
        "    - ✔ Runs only when no exceptions occur.\n",
        "\n",
        "      ✔ Helps separate normal execution from error handling.\n",
        "\n",
        "      ✔ Improves code readability and organization.\n",
        "\n",
        "17. What are the common logging levels in Python?\n",
        "\n",
        "    - Python's logging module provides different logging levels to categorize messages based on their severity. These levels help developers control what kind of messages are recorded in logs.\n",
        "\n",
        "18. What is the difference between os.fork() and multiprocessing in Python?\n",
        "\n",
        "    - 1. os.fork() (Unix-Based Process Creation)\n",
        "\n",
        "Creates a child process by duplicating the parent process.\n",
        "\n",
        "Works only on Unix-based systems (Linux, macOS).\n",
        "\n",
        "The child process gets a copy of the parent's memory space.\n",
        "\n",
        "After forking, both processes run independently.\n",
        "\n",
        "   2. multiprocessing Module (Cross-Platform Process Creation)\n",
        "\n",
        "     A higher-level module for cross-platform parallel execution.\n",
        "\n",
        "     Uses the Process class to create new processes.\n",
        "\n",
        "     Works on both Unix and Windows.\n",
        "\n",
        "     Each process runs independently, with its own memory space.\n",
        "\n",
        "19. What is the importance of closing a file in Python?\n",
        "\n",
        "    - Importance of Closing a File in Python\n",
        "\n",
        "      Closing a file in Python is essential for resource management and data integrity. When you open a file using open(), Python allocates system resources to handle it. If the file remains open, it can cause issues such as memory leaks, data corruption, and file locks.\n",
        "\n",
        "      ✔ Frees up system resources\n",
        "\n",
        "      ✔ Ensures data is written properly\n",
        "\n",
        "      ✔ Prevents file corruption and locks\n",
        "\n",
        "      ✔ Avoids memory leaks and too many open files errors\n",
        "\n",
        "20. What is the difference between file.read() and file.readline() in Python?\n",
        "\n",
        "    - 1. file.read() – Reads the Entire File or a Specified Number of Bytes\n",
        "\n",
        "       Reads the entire file content as a single string (default).\n",
        "\n",
        "       Can also read a specific number of bytes if an argument is provided.\n",
        "\n",
        "       Not memory-efficient for large files.\n",
        "     \n",
        "     2. file.readline() – Reads One Line at a Time\n",
        "\n",
        "      Reads only one line at a time (including the newline \\n if present).\n",
        "\n",
        "      Useful for processing large files line by line without loading everything into memory.\n",
        "\n",
        "21. What is the logging module in Python used for?\n",
        "\n",
        "    - The logging module in Python is used for recording events, tracking errors, and debugging applications. It allows developers to monitor the execution of a program by logging messages at different severity levels.\n",
        "\n",
        "     Key Uses of the logging Module\n",
        "\n",
        "Debugging & Troubleshooting – Helps track and diagnose issues in a program.\n",
        "\n",
        "Error Handling – Logs critical errors instead of printing messages to the console.\n",
        "\n",
        "Monitoring Applications – Records important events for system monitoring.\n",
        "\n",
        "Persistent Logging – Saves logs to files for future analysis.\n",
        "\n",
        "Multi-Level Logging – Controls verbosity with different log levels.\n",
        "\n",
        "22. What is the os module in Python used for in file handling?\n",
        "\n",
        "    - The os module in Python provides functions for interacting with the operating system, including file handling, directory management, and system operations. It allows you to create, delete, rename, move, and check file properties.\n",
        "\n",
        "Key Uses of the os Module in File Handling\n",
        "\n",
        "    1. Checking If a File Exists (os.path.exists())\n",
        "\n",
        "    2. Creating a New Directory (os.mkdir())\n",
        "\n",
        "    3. Listing Files in a Directory (os.listdir())\n",
        "\n",
        "    4. Renaming a File (os.rename())\n",
        "\n",
        "    5. Deleting a File (os.remove())\n",
        "\n",
        "    6. Deleting an Empty Directory (os.rmdir())\n",
        "\n",
        "    7. Getting the Current Working Directory (os.getcwd())\n",
        "\n",
        "23. What are the challenges associated with memory management in Python?\n",
        "\n",
        "   - Python uses automatic memory management, but it comes with certain challenges that can impact performance, efficiency, and stability. Here are some key issues:\n",
        "\n",
        "  1. Garbage Collection Overhead\n",
        "\n",
        "Python’s garbage collector (GC) runs periodically to free unused memory.\n",
        "However, frequent garbage collection can introduce performance overhead, especially in applications with large memory usage.\n",
        "\n",
        "🔹 Solution:\n",
        "\n",
        "Optimize garbage collection using gc.set_threshold() to adjust collection frequency.\n",
        "\n",
        "Disable automatic GC and trigger it manually using gc.collect() when needed.\n",
        "\n",
        "  2. Global Interpreter Lock (GIL) and Memory Usage\n",
        "\n",
        "The GIL ensures that only one thread executes Python bytecode at a time.\n",
        "This can lead to inefficient memory usage in multi-threaded applications, as threads cannot take full advantage of multiple CPU cores.\n",
        "\n",
        "🔹 Solution:\n",
        "\n",
        "Use multiprocessing instead of threading for CPU-bound tasks.\n",
        "\n",
        "   3. Circular References and Memory Leaks\n",
        "\n",
        "If two objects reference each other, Python’s reference counting cannot free them, leading to memory leaks.\n",
        "\n",
        "The garbage collector detects these but not always immediately.\n",
        "\n",
        "🔹 Solution:\n",
        "\n",
        "Use the weakref module to create weak references that do not increase the reference count.\n",
        "\n",
        "4. High Memory Usage Due to Object Caching\n",
        "\n",
        "Python caches small objects (integers, strings) to improve performance.\n",
        "\n",
        "However, this can increase memory usage in long-running applications.\n",
        "\n",
        "🔹 Solution:\n",
        "\n",
        "Use generators instead of lists for large datasets to avoid keeping unnecessary objects in memory.\n",
        "\n",
        "5. Fragmentation in Long-Running Programs\n",
        "\n",
        "Over time, memory may become fragmented, leading to inefficient allocation.\n",
        "This happens because Python does not always release memory back to the OS after object deletion.\n",
        "\n",
        "🔹 Solution:\n",
        "\n",
        "Restart the application periodically.\n",
        "\n",
        "Use memory profiling tools like tracemalloc to monitor memory usage.\n",
        "\n",
        "24.  How do you raise an exception manually in Python?\n",
        "\n",
        "    - In Python, you can manually trigger an exception using the raise keyword. This is useful for handling specific error conditions, enforcing input validation, or debugging.\n",
        "\n",
        "  1. Raising a Built-in Exception\n",
        "\n",
        "You can raise standard exceptions like ValueError, TypeError, ZeroDivisionError, etc.\n",
        "\n",
        "  2. Raising a Custom Exception\n",
        "\n",
        "You can define your own exceptions by creating a custom exception class.\n",
        "\n",
        "  3. Raising Exceptions with raise in except Block\n",
        "\n",
        "You can re-raise an exception inside an except block using raise.\n",
        "\n",
        "  4. Raising an Exception with a Custom Message\n",
        "\n",
        "You can pass a custom error message when raising an exception.\n",
        "\n",
        "25. Why is it important to use multithreading in certain applications?\n",
        "\n",
        "   - Key Reasons to Use Multithreading\n",
        "\n",
        "      1. Improves Application Responsiveness\n",
        "\n",
        "      2. Efficient Handling of I/O-bound Tasks\n",
        "\n",
        "      3. Better Resource Utilization\n",
        "\n",
        "      4. Faster Execution in Concurrent Tasks\n",
        "      \n",
        "      \n",
        "\n",
        "\n",
        "\n",
        "\n",
        "\n",
        "\n",
        "\n",
        "\n",
        "\n"
      ],
      "metadata": {
        "id": "UG2Vl7zZqflD"
      }
    },
    {
      "cell_type": "markdown",
      "source": [
        "# Practiocal Questions and Answers"
      ],
      "metadata": {
        "id": "0ihZYLQzx_uL"
      }
    },
    {
      "cell_type": "markdown",
      "source": [
        "1.  How can you open a file for writing in Python and write a string to it?\n",
        "\n"
      ],
      "metadata": {
        "id": "6QHNHsWTyX88"
      }
    },
    {
      "cell_type": "code",
      "source": [
        "with open(\"example.txt\", \"w\") as file:\n",
        "    file.write(\"Hello, World!\\n\")\n",
        "    file.write(\"This is a new line.\")\n",
        "print(\"File written successfully!\")\n"
      ],
      "metadata": {
        "colab": {
          "base_uri": "https://localhost:8080/"
        },
        "id": "u5wpbLM6yfx7",
        "outputId": "a970e3b2-9538-47f3-f13f-bf8c2a627074"
      },
      "execution_count": 1,
      "outputs": [
        {
          "output_type": "stream",
          "name": "stdout",
          "text": [
            "File written successfully!\n"
          ]
        }
      ]
    },
    {
      "cell_type": "markdown",
      "source": [
        "2. Write a Python program to read the contents of a file and print each line?"
      ],
      "metadata": {
        "id": "X5jxqkEvyiST"
      }
    },
    {
      "cell_type": "code",
      "source": [
        "def read_file(file_path):\n",
        "    try:\n",
        "        with open(file_path, 'r') as file:\n",
        "            for line in file:\n",
        "                print(line.strip())  # Strip removes newline characters\n",
        "    except FileNotFoundError:\n",
        "        print(\"Error: The specified file does not exist.\")\n",
        "    except IOError as e:\n",
        "        print(f\"Error reading file: {e}\")\n",
        "\n",
        "# Example usage\n",
        "file_path = input(\"Enter the filename to read: \")\n",
        "read_file(file_path)\n"
      ],
      "metadata": {
        "id": "RHWjHk9cyKBB"
      },
      "execution_count": null,
      "outputs": []
    },
    {
      "cell_type": "markdown",
      "source": [
        "3.  How would you handle a case where the file doesn't exist while trying to open it for reading?"
      ],
      "metadata": {
        "id": "sEsXZrrYzJdT"
      }
    },
    {
      "cell_type": "code",
      "source": [
        "def read_file(file_path):\n",
        "    try:\n",
        "        with open(file_path, \"r\") as file:\n",
        "            for line in file:\n",
        "                print(line.strip())  # Print each line without extra newline characters\n",
        "    except FileNotFoundError:\n",
        "        print(f\"Error: The file '{file_path}' was not found.\")\n",
        "    except IOError as e:\n",
        "        print(f\"Error reading file: {e}\")\n",
        "\n",
        "# Example usage\n",
        "file_path = input(\"Enter the filename to read: \")\n",
        "read_file(file_path)\n"
      ],
      "metadata": {
        "id": "iOyqxjY0zfmU"
      },
      "execution_count": null,
      "outputs": []
    },
    {
      "cell_type": "markdown",
      "source": [
        "4.  Write a Python script that reads from one file and writes its content to another file."
      ],
      "metadata": {
        "id": "nSKTsbcmzkaT"
      }
    },
    {
      "cell_type": "code",
      "source": [
        "def copy_file(source_file, destination_file):\n",
        "    try:\n",
        "        with open(source_file, 'r') as src:\n",
        "            content = src.read()\n",
        "\n",
        "        with open(destination_file, 'w') as dest:\n",
        "            dest.write(content)\n",
        "\n",
        "        print(f\"Content successfully copied from {source_file} to {destination_file}\")\n",
        "    except FileNotFoundError:\n",
        "        print(\"Error: The source file does not exist.\")\n",
        "    except IOError as e:\n",
        "        print(f\"I/O error occurred: {e}\")\n",
        "\n",
        "# Example usage\n",
        "source = input(\"Enter the source filename: \")\n",
        "destination = input(\"Enter the destination filename: \")\n",
        "copy_file(source, destination)\n"
      ],
      "metadata": {
        "id": "0UlrbIVZz2Or"
      },
      "execution_count": null,
      "outputs": []
    },
    {
      "cell_type": "markdown",
      "source": [
        "\n",
        "5. How would you catch and handle division by zero error in Python?\n"
      ],
      "metadata": {
        "id": "-Kx2EJkfgsJn"
      }
    },
    {
      "cell_type": "code",
      "source": [
        "try:\n",
        "    numerator = int(input(\"Enter numerator: \"))\n",
        "    denominator = int(input(\"Enter denominator: \"))\n",
        "    result = numerator / denominator\n",
        "    print(f\"Result: {result}\")\n",
        "except ZeroDivisionError:\n",
        "    print(\"Error: Division by zero is not allowed.\")\n",
        "except ValueError:\n",
        "    print(\"Error: Please enter valid numbers.\")\n"
      ],
      "metadata": {
        "colab": {
          "base_uri": "https://localhost:8080/"
        },
        "id": "sQ6Aw8kliIve",
        "outputId": "d8ece758-7f4a-4659-ac64-2f63b9e73526"
      },
      "execution_count": 1,
      "outputs": [
        {
          "output_type": "stream",
          "name": "stdout",
          "text": [
            "Enter numerator: \n",
            "Error: Please enter valid numbers.\n"
          ]
        }
      ]
    },
    {
      "cell_type": "markdown",
      "source": [
        "\n",
        "6. Write a Python program that logs an error message to a log file when a\n",
        "   division by zero exception occurs.\n"
      ],
      "metadata": {
        "id": "Judcv4ApiPQ2"
      }
    },
    {
      "cell_type": "code",
      "source": [
        "import logging\n",
        "\n",
        "# Configure logging\n",
        "logging.basicConfig(filename='error.log', level=logging.ERROR, format='%(asctime)s - %(levelname)s - %(message)s')\n",
        "\n",
        "def divide_numbers(numerator, denominator):\n",
        "    try:\n",
        "        result = numerator / denominator\n",
        "        print(f\"Result: {result}\")\n",
        "    except ZeroDivisionError:\n",
        "        logging.error(\"Division by zero error occurred.\")\n",
        "        print(\"Error: Division by zero is not allowed.\")\n",
        "    except Exception as e:\n",
        "        logging.error(f\"An unexpected error occurred: {e}\")\n",
        "        print(\"An unexpected error occurred.\")\n",
        "\n",
        "# Example usage\n",
        "num = int(input(\"Enter numerator: \"))\n",
        "den = int(input(\"Enter denominator: \"))\n",
        "divide_numbers(num, den)\n"
      ],
      "metadata": {
        "id": "FX9-LTZwigwp"
      },
      "execution_count": null,
      "outputs": []
    },
    {
      "cell_type": "markdown",
      "source": [
        "7. How do you log information at different levels (INFO, ERROR, WARNING) in\n",
        "   Python using the logging module?\n",
        "\n",
        "   "
      ],
      "metadata": {
        "id": "gYvuHAmuiiXk"
      }
    },
    {
      "cell_type": "code",
      "source": [
        "import logging\n",
        "\n",
        "# Configure logging settings\n",
        "logging.basicConfig(filename='app.log', level=logging.DEBUG,\n",
        "                    format='%(asctime)s - %(levelname)s - %(message)s')\n",
        "\n",
        "# Logging messages at different levels\n",
        "logging.debug(\"This is a debug message (detailed info for debugging).\")\n",
        "logging.info(\"This is an info message (general operational info).\")\n",
        "logging.warning(\"This is a warning message (indicating potential issues).\")\n",
        "logging.error(\"This is an error message (something went wrong).\")\n",
        "logging.critical(\"This is a critical message (serious failure).\")\n",
        "\n",
        "print(\"Logs have been written to 'app.log'.\")\n"
      ],
      "metadata": {
        "id": "2-GnAcSAoNPT"
      },
      "execution_count": null,
      "outputs": []
    },
    {
      "cell_type": "markdown",
      "source": [
        "\n",
        "\n",
        "8.  Write a program to handle a file opening error using exception handling."
      ],
      "metadata": {
        "id": "BA2tlX-qjnAf"
      }
    },
    {
      "cell_type": "code",
      "source": [
        "import logging\n",
        "\n",
        "# Configure logging\n",
        "logging.basicConfig(filename='error.log', level=logging.ERROR, format='%(asctime)s - %(levelname)s - %(message)s')\n",
        "\n",
        "def open_file(filename):\n",
        "    try:\n",
        "        with open(filename, 'r') as file:\n",
        "            content = file.read()\n",
        "            print(content)\n",
        "    except FileNotFoundError:\n",
        "        logging.error(f\"File not found: {filename}\")\n",
        "        print(\"Error: The specified file does not exist.\")\n",
        "    except IOError as e:\n",
        "        logging.error(f\"I/O error occurred while opening file {filename}: {e}\")\n",
        "        print(\"Error: An I/O error occurred while accessing the file.\")\n",
        "\n",
        "# Example usage\n",
        "filename = input(\"Enter the filename to open: \")\n",
        "open_file(filename)"
      ],
      "metadata": {
        "id": "_WBpruQ7j5eV"
      },
      "execution_count": null,
      "outputs": []
    },
    {
      "cell_type": "markdown",
      "source": [
        "9. How can you read a file line by line and store its content in a list in\n",
        "   Python.\n",
        "\n",
        "   - You can read a file line by line and store its content in a list using the readlines() method or by iterating over the file object. Here are two common approaches:\n",
        "\n",
        "Method 1: Using readlines()"
      ],
      "metadata": {
        "id": "S7qyFlIFj7W2"
      }
    },
    {
      "cell_type": "code",
      "source": [
        "with open(\"example.txt\", \"r\") as file:\n",
        "    lines = file.readlines()  # Reads all lines into a list\n",
        "print(lines)  # List of lines including newline characters\n"
      ],
      "metadata": {
        "id": "hWfBwXl_oTTc"
      },
      "execution_count": null,
      "outputs": []
    },
    {
      "cell_type": "markdown",
      "source": [
        "🔹 Note: Each line in the list includes a trailing newline (\\n). Use strip() if you want to remove them:\n",
        "\n",
        "Method 2: Using a Loop (Efficient for Large Files)"
      ],
      "metadata": {
        "id": "xsKUiE-LoT9E"
      }
    },
    {
      "cell_type": "code",
      "source": [
        "lines = []\n",
        "with open(\"example.txt\", \"r\") as file:\n",
        "    for line in file:\n",
        "        lines.append(line.strip())  # Reads line by line and removes newline\n",
        "print(lines)\n"
      ],
      "metadata": {
        "id": "i8KWxpgzofVi"
      },
      "execution_count": null,
      "outputs": []
    },
    {
      "cell_type": "markdown",
      "source": [
        "10. How can you append data to an existing file in Python.\n",
        "\n",
        "   1. Using \"a\" Mode to Append Data"
      ],
      "metadata": {
        "id": "5fEH7I9Zz_2D"
      }
    },
    {
      "cell_type": "code",
      "source": [
        "with open(\"example.txt\", \"a\") as file:\n",
        "    file.write(\"\\nThis is an appended line.\")\n",
        "print(\"Data appended successfully!\")\n"
      ],
      "metadata": {
        "id": "Y4XTRjR40F1D"
      },
      "execution_count": null,
      "outputs": []
    },
    {
      "cell_type": "markdown",
      "source": [
        "2. Appending Multiple Lines Using writelines()"
      ],
      "metadata": {
        "id": "Hmb5wxFw0N0i"
      }
    },
    {
      "cell_type": "code",
      "source": [
        "lines = [\"\\nAppending first line.\", \"\\nAppending second line.\"]\n",
        "\n",
        "with open(\"example.txt\", \"a\") as file:\n",
        "    file.writelines(lines)\n"
      ],
      "metadata": {
        "id": "26pl7Tsv0QDT"
      },
      "execution_count": null,
      "outputs": []
    },
    {
      "cell_type": "markdown",
      "source": [
        "3. Handling Errors While Appending"
      ],
      "metadata": {
        "id": "5PRt5ndl0VRb"
      }
    },
    {
      "cell_type": "code",
      "source": [
        "try:\n",
        "    with open(\"example.txt\", \"a\") as file:\n",
        "        file.write(\"\\nAppending new data safely.\")\n",
        "except IOError as e:\n",
        "    print(f\"Error appending to file: {e}\")\n"
      ],
      "metadata": {
        "id": "9xm6iOsz0VuM"
      },
      "execution_count": null,
      "outputs": []
    },
    {
      "cell_type": "markdown",
      "source": [
        "4. Appending User Input to a File"
      ],
      "metadata": {
        "id": "kG4DQhze0XlV"
      }
    },
    {
      "cell_type": "code",
      "source": [
        "text = input(\"Enter text to append: \")\n",
        "\n",
        "with open(\"example.txt\", \"a\") as file:\n",
        "    file.write(\"\\n\" + text)\n",
        "\n",
        "print(\"User input appended to the file.\")\n"
      ],
      "metadata": {
        "id": "dk3uopp-0Zno"
      },
      "execution_count": null,
      "outputs": []
    },
    {
      "cell_type": "markdown",
      "source": [
        "11. Write a Python program that uses a try-except block to handle an error when attempting to access a\n",
        "dictionary key that doesn't exist."
      ],
      "metadata": {
        "id": "5MlDYZ8n0bdk"
      }
    },
    {
      "cell_type": "code",
      "source": [
        "def access_dictionary_key(data, key):\n",
        "    try:\n",
        "        value = data[key]\n",
        "        print(f\"Value for '{key}': {value}\")\n",
        "    except KeyError:\n",
        "        print(f\"Error: The key '{key}' does not exist in the dictionary.\")\n",
        "\n",
        "# Example usage\n",
        "data_dict = {\"name\": \"Alice\", \"age\": 25, \"city\": \"New York\"}\n",
        "key_to_access = input(\"Enter the key to access: \")\n",
        "access_dictionary_key(data_dict, key_to_access)\n"
      ],
      "metadata": {
        "id": "oyy7ZCFm0gNa"
      },
      "execution_count": null,
      "outputs": []
    },
    {
      "cell_type": "markdown",
      "source": [
        "12. Write a program that demonstrates using multiple except blocks to handle different types of exceptions"
      ],
      "metadata": {
        "id": "4bCid3lt0ikr"
      }
    },
    {
      "cell_type": "code",
      "source": [
        "def handle_exceptions():\n",
        "    try:\n",
        "        num = int(input(\"Enter a number: \"))\n",
        "        result = 10 / num\n",
        "        print(f\"Result: {result}\")\n",
        "        my_list = [1, 2, 3]\n",
        "        index = int(input(\"Enter an index: \"))\n",
        "        print(f\"List element: {my_list[index]}\")\n",
        "    except ValueError:\n",
        "        print(\"Error: Invalid input! Please enter a valid number.\")\n",
        "    except ZeroDivisionError:\n",
        "        print(\"Error: Division by zero is not allowed.\")\n",
        "    except IndexError:\n",
        "        print(\"Error: Index out of range!\")\n",
        "    except Exception as e:\n",
        "        print(f\"An unexpected error occurred: {e}\")\n",
        "\n",
        "# Example usage\n",
        "handle_exceptions()"
      ],
      "metadata": {
        "id": "euXUhCnB0nSN"
      },
      "execution_count": null,
      "outputs": []
    },
    {
      "cell_type": "markdown",
      "source": [
        "13.  How would you check if a file exists before attempting to read it in Python\n",
        "\n",
        "  1. Using os.path.exists() (Standard Approach)"
      ],
      "metadata": {
        "id": "7cvuvT2g0r0b"
      }
    },
    {
      "cell_type": "code",
      "source": [
        "import os\n",
        "\n",
        "file_path = \"example.txt\"\n",
        "\n",
        "if os.path.exists(file_path):\n",
        "    with open(file_path, \"r\") as file:\n",
        "        content = file.read()\n",
        "        print(content)\n",
        "else:\n",
        "    print(f\"Error: The file '{file_path}' does not exist.\")\n"
      ],
      "metadata": {
        "id": "6J99NDcf0ywF"
      },
      "execution_count": null,
      "outputs": []
    },
    {
      "cell_type": "markdown",
      "source": [
        "2. Using pathlib.Path.exists() (Modern Approach)"
      ],
      "metadata": {
        "id": "Ng8Q2P7L07ZS"
      }
    },
    {
      "cell_type": "code",
      "source": [
        "from pathlib import Path\n",
        "\n",
        "file_path = Path(\"example.txt\")\n",
        "\n",
        "if file_path.exists():\n",
        "    with file_path.open(\"r\") as file:\n",
        "        content = file.read()\n",
        "        print(content)\n",
        "else:\n",
        "    print(f\"Error: The file '{file_path}' does not exist.\")\n"
      ],
      "metadata": {
        "id": "oao2RdYU09iM"
      },
      "execution_count": null,
      "outputs": []
    },
    {
      "cell_type": "markdown",
      "source": [
        "14. Write a program that uses the logging module to log both informational and error messages."
      ],
      "metadata": {
        "id": "l6gf-vfI0_S7"
      }
    },
    {
      "cell_type": "code",
      "source": [
        "import logging\n",
        "\n",
        "# Configure logging\n",
        "logging.basicConfig(filename='app.log', level=logging.DEBUG,\n",
        "                    format='%(asctime)s - %(levelname)s - %(message)s')\n",
        "\n",
        "def perform_operations():\n",
        "    try:\n",
        "        logging.info(\"Program started.\")\n",
        "        num = int(input(\"Enter a number: \"))\n",
        "        result = 10 / num\n",
        "        logging.info(f\"Division successful, result: {result}\")\n",
        "        print(f\"Result: {result}\")\n",
        "    except ValueError:\n",
        "        logging.error(\"Invalid input! Please enter a valid number.\")\n",
        "        print(\"Error: Invalid input! Please enter a valid number.\")\n",
        "    except ZeroDivisionError:\n",
        "        logging.error(\"Attempted division by zero.\")\n",
        "        print(\"Error: Division by zero is not allowed.\")\n",
        "    except Exception as e:\n",
        "        logging.error(f\"An unexpected error occurred: {e}\")\n",
        "        print(f\"An unexpected error occurred: {e}\")\n",
        "    finally:\n",
        "        logging.info(\"Program execution completed.\")\n",
        "\n",
        "# Run the program\n",
        "perform_operations()"
      ],
      "metadata": {
        "id": "voZG1-GA1EVl"
      },
      "execution_count": null,
      "outputs": []
    },
    {
      "cell_type": "markdown",
      "source": [
        "15.  Write a Python program that prints the content of a file and handles the case when the file is empty."
      ],
      "metadata": {
        "id": "K4plFFeI1G0u"
      }
    },
    {
      "cell_type": "code",
      "source": [
        "def print_file_content(file_path):\n",
        "    try:\n",
        "        with open(file_path, 'r') as file:\n",
        "            content = file.read()\n",
        "            if content.strip():  # Check if content is not empty\n",
        "                print(content)\n",
        "            else:\n",
        "                print(\"Error: The file is empty.\")\n",
        "    except FileNotFoundError:\n",
        "        print(\"Error: The specified file does not exist.\")\n",
        "    except IOError as e:\n",
        "        print(f\"Error reading file: {e}\")\n",
        "\n",
        "# Example usage\n",
        "file_path = input(\"Enter the filename to read: \")\n",
        "print_file_content(file_path)"
      ],
      "metadata": {
        "id": "VktrvfCK1aFb"
      },
      "execution_count": null,
      "outputs": []
    },
    {
      "cell_type": "markdown",
      "source": [
        "16.  Demonstrate how to use memory profiling to check the memory usage of a small program."
      ],
      "metadata": {
        "id": "LqEL3Gt91axx"
      }
    },
    {
      "cell_type": "code",
      "source": [
        "import memory_profiler\n",
        "import time\n",
        "\n",
        "@memory_profiler.profile  # Decorator to track memory usage\n",
        "def small_function():\n",
        "    data = [i for i in range(10000)]  # Creates a list of 10,000 integers\n",
        "    time.sleep(1)  # Simulates processing delay\n",
        "    return sum(data)\n",
        "\n",
        "if __name__ == \"__main__\":\n",
        "    result = small_function()\n",
        "    print(f\"Sum of numbers: {result}\")\n"
      ],
      "metadata": {
        "id": "IFZfVzzP1k6S"
      },
      "execution_count": null,
      "outputs": []
    },
    {
      "cell_type": "markdown",
      "source": [
        "17.  Write a Python program to create and write a list of numbers to a file, one number per lineF"
      ],
      "metadata": {
        "id": "utqyCEhQ1lzN"
      }
    },
    {
      "cell_type": "code",
      "source": [
        "def write_numbers_to_file(file_path, numbers):\n",
        "    try:\n",
        "        with open(file_path, 'w') as file:\n",
        "            for number in numbers:\n",
        "                file.write(f\"{number}\\n\")\n",
        "        print(f\"Numbers successfully written to {file_path}\")\n",
        "    except IOError as e:\n",
        "        print(f\"Error writing to file: {e}\")\n",
        "\n",
        "# Example usage\n",
        "numbers_list = list(range(1, 11))  # List of numbers from 1 to 10\n",
        "file_path = input(\"Enter the filename to write to: \")\n",
        "write_numbers_to_file(file_path, numbers_list)\n"
      ],
      "metadata": {
        "id": "aWl8tW-l1sLE"
      },
      "execution_count": null,
      "outputs": []
    },
    {
      "cell_type": "markdown",
      "source": [
        "18. How would you implement a basic logging setup that logs to a file with rotation after 1MB."
      ],
      "metadata": {
        "id": "FEVgbUIa1umN"
      }
    },
    {
      "cell_type": "code",
      "source": [
        "import logging\n",
        "from logging.handlers import RotatingFileHandler\n",
        "\n",
        "# Configure logging with rotation\n",
        "log_file = \"app.log\"\n",
        "log_handler = RotatingFileHandler(log_file, maxBytes=1_000_000, backupCount=5)  # 1MB per file, keeps 5 backups\n",
        "log_handler.setFormatter(logging.Formatter('%(asctime)s - %(levelname)s - %(message)s'))\n",
        "\n",
        "logger = logging.getLogger()\n",
        "logger.setLevel(logging.DEBUG)\n",
        "logger.addHandler(log_handler)\n",
        "\n",
        "# Example usage\n",
        "logger.info(\"This is an info message.\")\n",
        "logger.error(\"This is an error message.\")\n"
      ],
      "metadata": {
        "id": "A2mhIO_M1zyy"
      },
      "execution_count": null,
      "outputs": []
    },
    {
      "cell_type": "markdown",
      "source": [
        "19. Write a program that handles both IndexError and KeyError using a try-except block."
      ],
      "metadata": {
        "id": "05F3xgLL159j"
      }
    },
    {
      "cell_type": "code",
      "source": [
        "def handle_exceptions():\n",
        "    sample_list = [1, 2, 3]\n",
        "    sample_dict = {\"a\": 10, \"b\": 20}\n",
        "\n",
        "    try:\n",
        "        index = int(input(\"Enter a list index: \"))\n",
        "        print(f\"List value: {sample_list[index]}\")\n",
        "\n",
        "        key = input(\"Enter a dictionary key: \")\n",
        "        print(f\"Dictionary value: {sample_dict[key]}\")\n",
        "    except IndexError:\n",
        "        print(\"Error: List index out of range!\")\n",
        "    except KeyError:\n",
        "        print(\"Error: Key not found in dictionary!\")\n",
        "    except Exception as e:\n",
        "        print(f\"An unexpected error occurred: {e}\")\n",
        "\n",
        "# Example usage\n",
        "handle_exceptions()\n"
      ],
      "metadata": {
        "id": "VXIuuQD91-Te"
      },
      "execution_count": null,
      "outputs": []
    },
    {
      "cell_type": "markdown",
      "source": [
        "20. How would you open a file and read its contents using a context manager in Python."
      ],
      "metadata": {
        "id": "0K9Ctgwa2Cbz"
      }
    },
    {
      "cell_type": "code",
      "source": [
        "def read_file_with_context(file_path):\n",
        "    try:\n",
        "        with open(file_path, 'r') as file:\n",
        "            content = file.read()\n",
        "            print(content)\n",
        "    except FileNotFoundError:\n",
        "        print(\"Error: The specified file does not exist.\")\n",
        "    except IOError as e:\n",
        "        print(f\"Error reading file: {e}\")\n",
        "\n",
        "# Example usage\n",
        "file_path = input(\"Enter the filename to read: \")\n",
        "read_file_with_context(file_path)\n"
      ],
      "metadata": {
        "id": "37gE_4Kg2JGl"
      },
      "execution_count": null,
      "outputs": []
    },
    {
      "cell_type": "markdown",
      "source": [
        "21.  Write a Python program that reads a file and prints the number of occurrences of a specific word."
      ],
      "metadata": {
        "id": "nR_uGJxR2M7K"
      }
    },
    {
      "cell_type": "code",
      "source": [
        "def count_word_occurrences(file_path, word):\n",
        "    try:\n",
        "        with open(file_path, 'r') as file:\n",
        "            content = file.read()\n",
        "            word_count = content.lower().split().count(word.lower())\n",
        "            print(f\"The word '{word}' occurs {word_count} times in the file.\")\n",
        "    except FileNotFoundError:\n",
        "        print(\"Error: The specified file does not exist.\")\n",
        "    except IOError as e:\n",
        "        print(f\"Error reading file: {e}\")\n",
        "\n",
        "# Example usage\n",
        "file_path = input(\"Enter the filename to read: \")\n",
        "word = input(\"Enter the word to count: \")\n",
        "count_word_occurrences(file_path, word)\n"
      ],
      "metadata": {
        "id": "d3QvRK372Txs"
      },
      "execution_count": null,
      "outputs": []
    },
    {
      "cell_type": "markdown",
      "source": [
        "22.  How can you check if a file is empty before attempting to read its contents."
      ],
      "metadata": {
        "id": "kC6q0m3v2YjU"
      }
    },
    {
      "cell_type": "code",
      "source": [
        "import os\n",
        "\n",
        "def is_file_empty(file_path):\n",
        "    return os.path.exists(file_path) and os.stat(file_path).st_size == 0\n",
        "\n",
        "def read_file_if_not_empty(file_path):\n",
        "    try:\n",
        "        if is_file_empty(file_path):\n",
        "            print(\"Error: The file is empty.\")\n",
        "            return\n",
        "\n",
        "        with open(file_path, 'r') as file:\n",
        "            content = file.read()\n",
        "            print(content)\n",
        "    except FileNotFoundError:\n",
        "        print(\"Error: The specified file does not exist.\")\n",
        "    except IOError as e:\n",
        "        print(f\"Error reading file: {e}\")\n",
        "\n",
        "# Example usage\n",
        "file_path = input(\"Enter the filename to read: \")\n",
        "read_file_if_not_empty(file_path)"
      ],
      "metadata": {
        "id": "uGw6jzCf2bzc"
      },
      "execution_count": null,
      "outputs": []
    },
    {
      "cell_type": "markdown",
      "source": [
        "23. Write a Python program that writes to a log file when an error occurs during file handling."
      ],
      "metadata": {
        "id": "_tyuILSj2jF1"
      }
    },
    {
      "cell_type": "code",
      "source": [
        "import logging\n",
        "\n",
        "# Configure logging\n",
        "logging.basicConfig(filename='file_errors.log', level=logging.ERROR,\n",
        "                    format='%(asctime)s - %(levelname)s - %(message)s')\n",
        "\n",
        "def read_file(file_path):\n",
        "    try:\n",
        "        with open(file_path, 'r') as file:\n",
        "            content = file.read()\n",
        "            print(content)\n",
        "    except FileNotFoundError:\n",
        "        logging.error(f\"File not found: {file_path}\")\n",
        "        print(\"Error: The specified file does not exist.\")\n",
        "    except IOError as e:\n",
        "        logging.error(f\"I/O error occurred while reading file {file_path}: {e}\")\n",
        "        print(f\"Error reading file: {e}\")\n",
        "\n",
        "# Example usage\n",
        "file_path = input(\"Enter the filename to read: \")\n",
        "read_file(file_path)\n"
      ],
      "metadata": {
        "id": "9cMl5aX22vZ6"
      },
      "execution_count": null,
      "outputs": []
    },
    {
      "cell_type": "markdown",
      "source": [],
      "metadata": {
        "id": "0tO-cDqg12ZC"
      }
    }
  ]
}